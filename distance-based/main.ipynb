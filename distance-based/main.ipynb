{
 "cells": [
  {
   "cell_type": "code",
   "execution_count": 1,
   "metadata": {},
   "outputs": [],
   "source": [
    "from pathlib import Path\n",
    "\n",
    "import numpy as np\n",
    "import pandas as pd\n",
    "\n",
    "from autocorrect.preprocessing import CorpusBuilder\n",
    "from autocorrect.suggestor import WordSuggestor\n",
    "from autocorrect.generate import generate"
   ]
  },
  {
   "cell_type": "code",
   "execution_count": 2,
   "metadata": {},
   "outputs": [],
   "source": [
    "# Uncomment below line and execute to generate a wordlist of 10000 words\n",
    "# generate(\"words10000.txt\", 10000)"
   ]
  },
  {
   "cell_type": "code",
   "execution_count": 3,
   "metadata": {},
   "outputs": [],
   "source": [
    "corpus = CorpusBuilder(Path(\"words10000.txt\"))\n",
    "suggestor = WordSuggestor(corpus=corpus, suggestions=3, want_switches=False)"
   ]
  },
  {
   "cell_type": "code",
   "execution_count": 11,
   "metadata": {},
   "outputs": [
    {
     "data": {
      "text/plain": [
       "[('dead', 0.0014), ('bad', 0.0013), ('sad', 0.0008)]"
      ]
     },
     "execution_count": 11,
     "metadata": {},
     "output_type": "execute_result"
    }
   ],
   "source": [
    "input_word = \"dad\"\n",
    "suggestor(input_word)"
   ]
  }
 ],
 "metadata": {
  "kernelspec": {
   "display_name": "venv",
   "language": "python",
   "name": "python3"
  },
  "language_info": {
   "codemirror_mode": {
    "name": "ipython",
    "version": 3
   },
   "file_extension": ".py",
   "mimetype": "text/x-python",
   "name": "python",
   "nbconvert_exporter": "python",
   "pygments_lexer": "ipython3",
   "version": "3.10.6 (main, Nov 14 2022, 16:10:14) [GCC 11.3.0]"
  },
  "orig_nbformat": 4,
  "vscode": {
   "interpreter": {
    "hash": "e5d2ba91702b5b09a5f452a53f4c41730c444795b4a05fa8b32942080ef84214"
   }
  }
 },
 "nbformat": 4,
 "nbformat_minor": 2
}
